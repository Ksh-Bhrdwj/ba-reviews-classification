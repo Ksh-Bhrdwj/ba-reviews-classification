{
 "cells": [
  {
   "cell_type": "markdown",
   "metadata": {},
   "source": [
    "### Step 1: Import Necessary Libraries\n",
    "\n",
    "- **pandas**: For data manipulation and analysis.\n",
    "- **train_test_split**: For splitting the dataset into training and testing sets.\n",
    "- **OneHotEncoder**: For encoding categorical features.\n",
    "- **StandardScaler**: For standardizing numerical features.\n",
    "- **ColumnTransformer**: For applying different preprocessing steps to different subsets of features.\n",
    "- **Pipeline**: For assembling several steps into one pipeline.\n"
   ]
  },
  {
   "cell_type": "code",
   "execution_count": 42,
   "metadata": {},
   "outputs": [],
   "source": [
    "import pandas as pd\n",
    "from sklearn.model_selection import train_test_split\n",
    "from sklearn.preprocessing import OneHotEncoder, StandardScaler\n",
    "from sklearn.compose import ColumnTransformer\n",
    "from sklearn.pipeline import Pipeline"
   ]
  },
  {
   "cell_type": "markdown",
   "metadata": {},
   "source": [
    "### Step 2: Load the Data\n",
    "\n",
    "- Use `pandas` to read the CSV file containing the dataset.\n",
    "- The dataset contains reviews of British Airways\n"
   ]
  },
  {
   "cell_type": "code",
   "execution_count": null,
   "metadata": {},
   "outputs": [],
   "source": [
    "# Load the data\n",
    "data = pd.read_csv('C:/Users/kush2/OneDrive/Desktop/Projects/BA Reviews/british-airways.csv')"
   ]
  },
  {
   "cell_type": "markdown",
   "metadata": {},
   "source": [
    "### Step 2.1: Inspect the Data\n",
    "\n",
    "- **data.head()**: Display the first few rows of the dataset to understand its structure.\n",
    "- **data.info()**: Get a summary of the dataset, including data types and missing values.\n"
   ]
  },
  {
   "cell_type": "code",
   "execution_count": 43,
   "metadata": {},
   "outputs": [
    {
     "name": "stdout",
     "output_type": "stream",
     "text": [
      "<class 'pandas.core.frame.DataFrame'>\n",
      "RangeIndex: 1200 entries, 0 to 1199\n",
      "Data columns (total 17 columns):\n",
      " #   Column                 Non-Null Count  Dtype         \n",
      "---  ------                 --------------  -----         \n",
      " 0   title                  1200 non-null   object        \n",
      " 1   rating                 1200 non-null   int64         \n",
      " 2   review_date            1200 non-null   datetime64[ns]\n",
      " 3   review                 1200 non-null   object        \n",
      " 4   trip_verified          1200 non-null   bool          \n",
      " 5   aircraft               1200 non-null   object        \n",
      " 6   type_of_traveller      1200 non-null   object        \n",
      " 7   seat_type              1200 non-null   object        \n",
      " 8   route                  1200 non-null   object        \n",
      " 9   date_flown             1200 non-null   object        \n",
      " 10  seat_comfort           1200 non-null   float64       \n",
      " 11  cabin_staff_service    1200 non-null   float64       \n",
      " 12  food_and_beverages     1200 non-null   float64       \n",
      " 13  ground_service         1200 non-null   float64       \n",
      " 14  value_for_money        1200 non-null   int64         \n",
      " 15  recommend              1200 non-null   bool          \n",
      " 16  wifi_and_connectivity  1200 non-null   float64       \n",
      "dtypes: bool(2), datetime64[ns](1), float64(5), int64(2), object(7)\n",
      "memory usage: 143.1+ KB\n"
     ]
    }
   ],
   "source": [
    "# Display the first few rows of the dataset to understand its structure\n",
    "data.head()\n",
    "\n",
    "# Get a summary of the dataset, including data types and missing values\n",
    "data.info()\n"
   ]
  },
  {
   "cell_type": "markdown",
   "metadata": {},
   "source": [
    "### Step 3: Ensure Data Types Are Correct\n",
    "\n",
    "- Convert columns to appropriate data types to ensure correct processing:\n",
    "  - `rating`: Convert to numeric.\n",
    "  - `review_date`: Convert to datetime.\n",
    "  - `seat_comfort`: Convert to numeric.\n",
    "  - `cabin_staff_service`: Convert to numeric.\n",
    "  - `ground_service`: Convert to numeric.\n",
    "  - `value_for_money`: Convert to numeric.\n",
    "  - `wifi_and_connectivity`: Convert to numeric.\n",
    "  - `recommend`: Convert to boolean.\n"
   ]
  },
  {
   "cell_type": "code",
   "execution_count": 5,
   "metadata": {},
   "outputs": [],
   "source": [
    "# To Ensure data types are correct \n",
    "data['rating'] = pd.to_numeric(data['rating'], errors='coerce')\n",
    "data['review_date'] = pd.to_datetime(data['review_date'], format='%d/%m/%Y', errors='coerce')\n",
    "data['seat_comfort'] = pd.to_numeric(data['seat_comfort'], errors='coerce')\n",
    "data['cabin_staff_service'] = pd.to_numeric(data['cabin_staff_service'], errors='coerce')\n",
    "data['ground_service'] = pd.to_numeric(data['ground_service'], errors='coerce')\n",
    "data['value_for_money'] = pd.to_numeric(data['value_for_money'], errors='coerce')\n",
    "data['wifi_and_connectivity'] = pd.to_numeric(data['wifi_and_connectivity'], errors='coerce')\n",
    "data['recommend'] = data['recommend'].astype(bool)"
   ]
  },
  {
   "cell_type": "markdown",
   "metadata": {},
   "source": [
    "### Step 4: Handle Missing Values\n",
    "\n",
    "- Fill missing values with appropriate statistics:\n",
    "  - **Numeric columns**: Fill with the mean value.\n",
    "    - `seat_comfort`\n",
    "    - `cabin_staff_service`\n",
    "    - `ground_service`\n",
    "    - `food_and_beverages`: Extract numeric values from strings before filling.\n",
    "    - `wifi_and_connectivity`\n",
    "  - **Categorical columns**: Fill with the mode (most frequent value).\n",
    "    - `aircraft`\n",
    "    - `type_of_traveller`\n",
    "    - `route`\n"
   ]
  },
  {
   "cell_type": "code",
   "execution_count": 6,
   "metadata": {},
   "outputs": [
    {
     "name": "stderr",
     "output_type": "stream",
     "text": [
      "<>:5: SyntaxWarning: invalid escape sequence '\\d'\n",
      "<>:5: SyntaxWarning: invalid escape sequence '\\d'\n",
      "C:\\Users\\kush2\\AppData\\Local\\Temp\\ipykernel_17048\\3592201887.py:5: SyntaxWarning: invalid escape sequence '\\d'\n",
      "  data['food_and_beverages'] = data['food_and_beverages'].str.extract('>(\\d+)<', expand=False).astype(float)\n",
      "C:\\Users\\kush2\\AppData\\Local\\Temp\\ipykernel_17048\\3592201887.py:2: FutureWarning: A value is trying to be set on a copy of a DataFrame or Series through chained assignment using an inplace method.\n",
      "The behavior will change in pandas 3.0. This inplace method will never work because the intermediate object on which we are setting values always behaves as a copy.\n",
      "\n",
      "For example, when doing 'df[col].method(value, inplace=True)', try using 'df.method({col: value}, inplace=True)' or df[col] = df[col].method(value) instead, to perform the operation inplace on the original object.\n",
      "\n",
      "\n",
      "  data['seat_comfort'].fillna(data['seat_comfort'].mean(), inplace=True)\n",
      "C:\\Users\\kush2\\AppData\\Local\\Temp\\ipykernel_17048\\3592201887.py:3: FutureWarning: A value is trying to be set on a copy of a DataFrame or Series through chained assignment using an inplace method.\n",
      "The behavior will change in pandas 3.0. This inplace method will never work because the intermediate object on which we are setting values always behaves as a copy.\n",
      "\n",
      "For example, when doing 'df[col].method(value, inplace=True)', try using 'df.method({col: value}, inplace=True)' or df[col] = df[col].method(value) instead, to perform the operation inplace on the original object.\n",
      "\n",
      "\n",
      "  data['cabin_staff_service'].fillna(data['cabin_staff_service'].mean(), inplace=True)\n",
      "C:\\Users\\kush2\\AppData\\Local\\Temp\\ipykernel_17048\\3592201887.py:4: FutureWarning: A value is trying to be set on a copy of a DataFrame or Series through chained assignment using an inplace method.\n",
      "The behavior will change in pandas 3.0. This inplace method will never work because the intermediate object on which we are setting values always behaves as a copy.\n",
      "\n",
      "For example, when doing 'df[col].method(value, inplace=True)', try using 'df.method({col: value}, inplace=True)' or df[col] = df[col].method(value) instead, to perform the operation inplace on the original object.\n",
      "\n",
      "\n",
      "  data['ground_service'].fillna(data['ground_service'].mean(), inplace=True)\n",
      "C:\\Users\\kush2\\AppData\\Local\\Temp\\ipykernel_17048\\3592201887.py:6: FutureWarning: A value is trying to be set on a copy of a DataFrame or Series through chained assignment using an inplace method.\n",
      "The behavior will change in pandas 3.0. This inplace method will never work because the intermediate object on which we are setting values always behaves as a copy.\n",
      "\n",
      "For example, when doing 'df[col].method(value, inplace=True)', try using 'df.method({col: value}, inplace=True)' or df[col] = df[col].method(value) instead, to perform the operation inplace on the original object.\n",
      "\n",
      "\n",
      "  data['food_and_beverages'].fillna(data['food_and_beverages'].mean(), inplace=True)\n",
      "C:\\Users\\kush2\\AppData\\Local\\Temp\\ipykernel_17048\\3592201887.py:7: FutureWarning: A value is trying to be set on a copy of a DataFrame or Series through chained assignment using an inplace method.\n",
      "The behavior will change in pandas 3.0. This inplace method will never work because the intermediate object on which we are setting values always behaves as a copy.\n",
      "\n",
      "For example, when doing 'df[col].method(value, inplace=True)', try using 'df.method({col: value}, inplace=True)' or df[col] = df[col].method(value) instead, to perform the operation inplace on the original object.\n",
      "\n",
      "\n",
      "  data['wifi_and_connectivity'].fillna(data['wifi_and_connectivity'].mean(), inplace=True)\n",
      "C:\\Users\\kush2\\AppData\\Local\\Temp\\ipykernel_17048\\3592201887.py:8: FutureWarning: A value is trying to be set on a copy of a DataFrame or Series through chained assignment using an inplace method.\n",
      "The behavior will change in pandas 3.0. This inplace method will never work because the intermediate object on which we are setting values always behaves as a copy.\n",
      "\n",
      "For example, when doing 'df[col].method(value, inplace=True)', try using 'df.method({col: value}, inplace=True)' or df[col] = df[col].method(value) instead, to perform the operation inplace on the original object.\n",
      "\n",
      "\n",
      "  data['aircraft'].fillna(data['aircraft'].mode()[0], inplace=True)\n",
      "C:\\Users\\kush2\\AppData\\Local\\Temp\\ipykernel_17048\\3592201887.py:9: FutureWarning: A value is trying to be set on a copy of a DataFrame or Series through chained assignment using an inplace method.\n",
      "The behavior will change in pandas 3.0. This inplace method will never work because the intermediate object on which we are setting values always behaves as a copy.\n",
      "\n",
      "For example, when doing 'df[col].method(value, inplace=True)', try using 'df.method({col: value}, inplace=True)' or df[col] = df[col].method(value) instead, to perform the operation inplace on the original object.\n",
      "\n",
      "\n",
      "  data['type_of_traveller'].fillna(data['type_of_traveller'].mode()[0], inplace=True)\n",
      "C:\\Users\\kush2\\AppData\\Local\\Temp\\ipykernel_17048\\3592201887.py:10: FutureWarning: A value is trying to be set on a copy of a DataFrame or Series through chained assignment using an inplace method.\n",
      "The behavior will change in pandas 3.0. This inplace method will never work because the intermediate object on which we are setting values always behaves as a copy.\n",
      "\n",
      "For example, when doing 'df[col].method(value, inplace=True)', try using 'df.method({col: value}, inplace=True)' or df[col] = df[col].method(value) instead, to perform the operation inplace on the original object.\n",
      "\n",
      "\n",
      "  data['route'].fillna(data['route'].mode()[0], inplace=True)\n"
     ]
    }
   ],
   "source": [
    "# Fill missing values with mean/mode\n",
    "data['seat_comfort'].fillna(data['seat_comfort'].mean(), inplace=True)\n",
    "data['cabin_staff_service'].fillna(data['cabin_staff_service'].mean(), inplace=True)\n",
    "data['ground_service'].fillna(data['ground_service'].mean(), inplace=True)\n",
    "data['food_and_beverages'] = data['food_and_beverages'].str.extract('>(\\d+)<', expand=False).astype(float)\n",
    "data['food_and_beverages'].fillna(data['food_and_beverages'].mean(), inplace=True)\n",
    "data['wifi_and_connectivity'].fillna(data['wifi_and_connectivity'].mean(), inplace=True)\n",
    "data['aircraft'].fillna(data['aircraft'].mode()[0], inplace=True)\n",
    "data['type_of_traveller'].fillna(data['type_of_traveller'].mode()[0], inplace=True)\n",
    "data['route'].fillna(data['route'].mode()[0], inplace=True)"
   ]
  },
  {
   "cell_type": "markdown",
   "metadata": {},
   "source": [
    "### Step 5: Drop Unnecessary Columns\n",
    "\n",
    "- Drop columns that are not required for analysis.\n",
    "  - `wifi_and_connecticity`: This column appears to be a typo or duplicate of `wifi_and_connectivity`."
   ]
  },
  {
   "cell_type": "code",
   "execution_count": 7,
   "metadata": {},
   "outputs": [],
   "source": [
    "# Drop unnecessary column\n",
    "data.drop(columns=['wifi_and_connecticity'], inplace=True)"
   ]
  },
  {
   "cell_type": "markdown",
   "metadata": {},
   "source": [
    "### Step 6: Separate Features and Target Variable\n",
    "\n",
    "- Define the features (`X`) and the target variable (`y`).\n",
    "  - **Features**: Drop columns that are not used for prediction.\n",
    "    - `recommend`: The target variable.\n",
    "    - `review`: Text review (will be handled separately).\n",
    "    - `review_date`: Date of review (not directly used).\n",
    "    - `date_flown`: Date flown (not directly used).\n",
    "  - **Target Variable**: `recommend`\n"
   ]
  },
  {
   "cell_type": "code",
   "execution_count": 8,
   "metadata": {},
   "outputs": [],
   "source": [
    "# Separate features and target variable\n",
    "X = data.drop(columns=['recommend', 'review', 'review_date', 'date_flown'])\n",
    "y = data['recommend']\n"
   ]
  },
  {
   "cell_type": "markdown",
   "metadata": {},
   "source": [
    "### Step 7: Identify Categorical and Numeric Features\n",
    "\n",
    "- Identify which features are categorical and which are numeric for preprocessing.\n",
    "  - **Categorical Features**: \n",
    "    - `aircraft`\n",
    "    - `type_of_traveller`\n",
    "    - `seat_type`\n",
    "    - `route`\n",
    "  - **Numeric Features**: \n",
    "    - `rating`\n",
    "    - `seat_comfort`\n",
    "    - `cabin_staff_service`\n",
    "    - `food_and_beverages`\n",
    "    - `ground_service`\n",
    "    - `value_for_money`\n",
    "    - `wifi_and_connectivity`\n"
   ]
  },
  {
   "cell_type": "code",
   "execution_count": 9,
   "metadata": {},
   "outputs": [],
   "source": [
    "# Identify categorical and numeric features\n",
    "categorical_features = ['aircraft', 'type_of_traveller', 'seat_type', 'route']\n",
    "numeric_features = ['rating', 'seat_comfort', 'cabin_staff_service', 'food_and_beverages', 'ground_service', 'value_for_money', 'wifi_and_connectivity']"
   ]
  },
  {
   "cell_type": "markdown",
   "metadata": {},
   "source": [
    "### Step 8: Preprocessing Pipeline\n",
    "\n",
    "- Create a preprocessing pipeline to handle both numeric and categorical features:\n",
    "  - **Numeric Features**: Apply `StandardScaler` to standardize the features.\n",
    "  - **Categorical Features**: Apply `OneHotEncoder` to encode categorical variables.\n"
   ]
  },
  {
   "cell_type": "code",
   "execution_count": 11,
   "metadata": {},
   "outputs": [],
   "source": [
    "# Preprocessing pipeline\n",
    "preprocessor = ColumnTransformer(\n",
    "    transformers=[\n",
    "        ('num', StandardScaler(), numeric_features),\n",
    "        ('cat', OneHotEncoder(handle_unknown='ignore'), categorical_features)\n",
    "    ])"
   ]
  },
  {
   "cell_type": "markdown",
   "metadata": {},
   "source": [
    "### Step 9: Split the Data\n",
    "\n",
    "- Split the dataset into training and testing sets:\n",
    "  - **Training Set**: Used to train the model.\n",
    "  - **Testing Set**: Used to evaluate the model's performance.\n",
    "- Parameters:\n",
    "  - `test_size=0.2`: 20% of the data will be used for testing.\n",
    "  - `random_state=42`: Ensures reproducibility of the results.\n"
   ]
  },
  {
   "cell_type": "code",
   "execution_count": 12,
   "metadata": {},
   "outputs": [],
   "source": [
    "# Split the data\n",
    "X_train, X_test, y_train, y_test = train_test_split(X, y, test_size=0.2, random_state=42)\n"
   ]
  },
  {
   "cell_type": "markdown",
   "metadata": {},
   "source": [
    "### Step 10: Apply Preprocessing\n",
    "\n",
    "- Apply the preprocessing pipeline to the training and testing sets:\n",
    "  - **fit_transform on X_train**: Fit the preprocessors to the training data and transform it.\n",
    "  - **transform on X_test**: Transform the testing data using the already fitted preprocessors.\n"
   ]
  },
  {
   "cell_type": "code",
   "execution_count": 13,
   "metadata": {},
   "outputs": [],
   "source": [
    "# Apply preprocessing\n",
    "X_train_transformed = preprocessor.fit_transform(X_train)\n",
    "X_test_transformed = preprocessor.transform(X_test)"
   ]
  },
  {
   "cell_type": "code",
   "execution_count": 14,
   "metadata": {},
   "outputs": [
    {
     "name": "stdout",
     "output_type": "stream",
     "text": [
      "(960, 754) (240, 754)\n"
     ]
    }
   ],
   "source": [
    "# Print the shape of the transformed datasets\n",
    "print(X_train_transformed.shape, X_test_transformed.shape)"
   ]
  },
  {
   "cell_type": "markdown",
   "metadata": {},
   "source": [
    "### Step 11: Feature Engineering with TF-IDF\n",
    "\n",
    "- **TF-IDF Vectorization**: Convert text reviews into numerical features using TF-IDF.\n",
    "  - **TF-IDF**: Term Frequency-Inverse Document Frequency, used to reflect the importance of a term in a document relative to the entire corpus.\n",
    "  - **max_features=500**: Limit to the top 500 terms to reduce dimensionality.\n",
    "- **Combine Features**: Merge the TF-IDF text features with the preprocessed structured features.\n"
   ]
  },
  {
   "cell_type": "code",
   "execution_count": 15,
   "metadata": {},
   "outputs": [
    {
     "name": "stdout",
     "output_type": "stream",
     "text": [
      "(960, 1254) (240, 1254)\n"
     ]
    }
   ],
   "source": [
    "from sklearn.feature_extraction.text import TfidfVectorizer\n",
    "import scipy.sparse\n",
    "\n",
    "# Extract features from the text reviews using TF-IDF\n",
    "tfidf_vectorizer = TfidfVectorizer(max_features=500)\n",
    "X_train_text = tfidf_vectorizer.fit_transform(data.loc[X_train.index, 'review'])\n",
    "X_test_text = tfidf_vectorizer.transform(data.loc[X_test.index, 'review'])\n",
    "\n",
    "# Combine text features with the preprocessed structured features\n",
    "X_train_combined = scipy.sparse.hstack((X_train_transformed, X_train_text))\n",
    "X_test_combined = scipy.sparse.hstack((X_test_transformed, X_test_text))\n",
    "\n",
    "# Print the shape of the combined datasets\n",
    "print(X_train_combined.shape, X_test_combined.shape)\n"
   ]
  },
  {
   "cell_type": "code",
   "execution_count": 47,
   "metadata": {},
   "outputs": [],
   "source": [
    "# Load the data\n",
    "data = pd.read_csv('C:/Users/kush2/OneDrive/Desktop/Projects/BA Reviews/british-airways.csv')"
   ]
  },
  {
   "cell_type": "markdown",
   "metadata": {},
   "source": [
    "### Step 12: Train and Evaluate Logistic Regression Model\n",
    "\n",
    "- **Train a Logistic Regression model**: \n",
    "  - `LogisticRegression(max_iter=1000)`: Initialize the model with a maximum of 1000 iterations.\n",
    "  - **Fit the model**: Train the model on the combined training set.\n",
    "- **Make Predictions**:\n",
    "  - Predict on the training set.\n",
    "  - Predict on the testing set.\n",
    "  - Obtain predicted probabilities for ROC-AUC evaluation.\n",
    "- **Evaluate the Model**:\n",
    "  - **Accuracy**: Measure the percentage of correct predictions.\n",
    "  - **Precision**: Measure the proportion of positive identifications that were actually correct.\n",
    "  - **Recall**: Measure the proportion of actual positives that were identified correctly.\n",
    "  - **F1 Score**: Harmonic mean of precision and recall.\n",
    "  - **AUC-ROC**: Measure the ability of the model to distinguish between classes.\n",
    "- **Print the Evaluation Metrics**: Display the performance metrics of the model.\n"
   ]
  },
  {
   "cell_type": "code",
   "execution_count": 48,
   "metadata": {},
   "outputs": [
    {
     "name": "stdout",
     "output_type": "stream",
     "text": [
      "Training Accuracy: 0.978125\n",
      "Testing Accuracy: 0.9375\n",
      "Precision: 0.9506172839506173\n",
      "Recall: 0.875\n",
      "F1 Score: 0.9112426035502958\n",
      "AUC-ROC: 0.993421052631579\n"
     ]
    }
   ],
   "source": [
    "from sklearn.linear_model import LogisticRegression\n",
    "from sklearn.metrics import accuracy_score, precision_score, recall_score, f1_score, roc_auc_score\n",
    "\n",
    "# Train a Logistic Regression model\n",
    "logistic_regression = LogisticRegression(max_iter=1000)\n",
    "logistic_regression.fit(X_train_combined, y_train)\n",
    "\n",
    "# Make predictions\n",
    "y_pred_train = logistic_regression.predict(X_train_combined)\n",
    "y_pred_test = logistic_regression.predict(X_test_combined)\n",
    "y_pred_proba_test = logistic_regression.predict_proba(X_test_combined)[:, 1]\n",
    "\n",
    "# Evaluate the model\n",
    "train_accuracy = accuracy_score(y_train, y_pred_train)\n",
    "test_accuracy = accuracy_score(y_test, y_pred_test)\n",
    "precision = precision_score(y_test, y_pred_test)\n",
    "recall = recall_score(y_test, y_pred_test)\n",
    "f1 = f1_score(y_test, y_pred_test)\n",
    "auc_roc = roc_auc_score(y_test, y_pred_proba_test)\n",
    "\n",
    "# Print the evaluation metrics\n",
    "print(f\"Training Accuracy: {train_accuracy}\")\n",
    "print(f\"Testing Accuracy: {test_accuracy}\")\n",
    "print(f\"Precision: {precision}\")\n",
    "print(f\"Recall: {recall}\")\n",
    "print(f\"F1 Score: {f1}\")\n",
    "print(f\"AUC-ROC: {auc_roc}\")\n",
    "\n"
   ]
  },
  {
   "cell_type": "markdown",
   "metadata": {},
   "source": [
    "### Step 13: Train and Evaluate Random Forest Model\n",
    "\n",
    "- **Train a Random Forest model**:\n",
    "  - Initialize the model with `RandomForestClassifier(n_estimators=100, random_state=42)`.\n",
    "  - Fit the model on the combined training set using `random_forest.fit(X_train_combined, y_train)`.\n",
    "- **Make Predictions**:\n",
    "  - Predict on the training set using `random_forest.predict(X_train_combined)`.\n",
    "  - Predict on the testing set using `random_forest.predict(X_test_combined)`.\n",
    "  - Obtain predicted probabilities for ROC-AUC evaluation using `random_forest.predict_proba(X_test_combined)[:, 1]`.\n",
    "- **Evaluate the Model**:\n",
    "  - **Accuracy**: Measure the percentage of correct predictions with `accuracy_score`.\n",
    "  - **Precision**: Measure the proportion of positive identifications that were actually correct with `precision_score`.\n",
    "  - **Recall**: Measure the proportion of actual positives that were identified correctly with `recall_score`.\n",
    "  - **F1 Score**: Harmonic mean of precision and recall with `f1_score`.\n",
    "  - **AUC-ROC**: Measure the ability of the model to distinguish between classes with `roc_auc_score`.\n",
    "- **Print the Evaluation Metrics**: Display the performance metrics of the model.\n"
   ]
  },
  {
   "cell_type": "code",
   "execution_count": 18,
   "metadata": {},
   "outputs": [
    {
     "name": "stdout",
     "output_type": "stream",
     "text": [
      "Random Forest - Training Accuracy: 1.0\n",
      "Random Forest - Testing Accuracy: 0.9291666666666667\n",
      "Random Forest - Precision: 0.9733333333333334\n",
      "Random Forest - Recall: 0.8295454545454546\n",
      "Random Forest - F1 Score: 0.8957055214723927\n",
      "Random Forest - AUC-ROC: 0.9929724880382775\n"
     ]
    }
   ],
   "source": [
    "from sklearn.ensemble import RandomForestClassifier\n",
    "from sklearn.metrics import accuracy_score, precision_score, recall_score, f1_score, roc_auc_score\n",
    "\n",
    "# Train a Random Forest model\n",
    "random_forest = RandomForestClassifier(n_estimators=100, random_state=42)\n",
    "random_forest.fit(X_train_combined, y_train)\n",
    "\n",
    "# Make predictions\n",
    "y_pred_train_rf = random_forest.predict(X_train_combined)\n",
    "y_pred_test_rf = random_forest.predict(X_test_combined)\n",
    "y_pred_proba_test_rf = random_forest.predict_proba(X_test_combined)[:, 1]\n",
    "\n",
    "# Evaluate the model\n",
    "train_accuracy_rf = accuracy_score(y_train, y_pred_train_rf)\n",
    "test_accuracy_rf = accuracy_score(y_test, y_pred_test_rf)\n",
    "precision_rf = precision_score(y_test, y_pred_test_rf)\n",
    "recall_rf = recall_score(y_test, y_pred_test_rf)\n",
    "f1_rf = f1_score(y_test, y_pred_test_rf)\n",
    "auc_roc_rf = roc_auc_score(y_test, y_pred_proba_test_rf)\n",
    "\n",
    "# Print the evaluation metrics\n",
    "print(f\"Random Forest - Training Accuracy: {train_accuracy_rf}\")\n",
    "print(f\"Random Forest - Testing Accuracy: {test_accuracy_rf}\")\n",
    "print(f\"Random Forest - Precision: {precision_rf}\")\n",
    "print(f\"Random Forest - Recall: {recall_rf}\")\n",
    "print(f\"Random Forest - F1 Score: {f1_rf}\")\n",
    "print(f\"Random Forest - AUC-ROC: {auc_roc_rf}\")\n"
   ]
  },
  {
   "cell_type": "markdown",
   "metadata": {},
   "source": [
    "### Step 14: Hyperparameter Tuning with GridSearchCV\n",
    "\n",
    "- **Hyperparameter Tuning**:\n",
    "  - Use `GridSearchCV` to find the best hyperparameters for the Random Forest model.\n",
    "- **Parameter Grid**:\n",
    "  - `n_estimators`: Number of trees in the forest.\n",
    "  - `max_depth`: Maximum depth of the tree.\n",
    "  - `min_samples_split`: Minimum number of samples required to split an internal node.\n",
    "  - `min_samples_leaf`: Minimum number of samples required to be at a leaf node.\n",
    "- **Grid Search**:\n",
    "  - Initialize `GridSearchCV` with the Random Forest estimator, parameter grid, and scoring metric (`roc_auc`).\n",
    "  - Fit the grid search on the combined training set.\n",
    "- **Results**:\n",
    "  - Retrieve the best parameters and the best AUC-ROC score from the grid search.\n"
   ]
  },
  {
   "cell_type": "code",
   "execution_count": 19,
   "metadata": {},
   "outputs": [
    {
     "name": "stdout",
     "output_type": "stream",
     "text": [
      "Best Parameters: {'max_depth': 20, 'min_samples_leaf': 4, 'min_samples_split': 10, 'n_estimators': 300}\n",
      "Best AUC-ROC Score: 0.9889289162507134\n"
     ]
    }
   ],
   "source": [
    "from sklearn.model_selection import GridSearchCV\n",
    "\n",
    "# Define the parameter grid\n",
    "param_grid = {\n",
    "    'n_estimators': [100, 200, 300],\n",
    "    'max_depth': [None, 10, 20, 30],\n",
    "    'min_samples_split': [2, 5, 10],\n",
    "    'min_samples_leaf': [1, 2, 4]\n",
    "}\n",
    "\n",
    "# Initialize the Grid Search\n",
    "grid_search = GridSearchCV(estimator=RandomForestClassifier(random_state=42), param_grid=param_grid, cv=3, n_jobs=-1, scoring='roc_auc')\n",
    "\n",
    "# Fit Grid Search\n",
    "grid_search.fit(X_train_combined, y_train)\n",
    "\n",
    "# Get the best parameters and the best score\n",
    "best_params = grid_search.best_params_\n",
    "best_score = grid_search.best_score_\n",
    "\n",
    "# Print the best parameters and the best score\n",
    "print(f\"Best Parameters: {best_params}\")\n",
    "print(f\"Best AUC-ROC Score: {best_score}\")\n"
   ]
  },
  {
   "cell_type": "markdown",
   "metadata": {},
   "source": [
    "### Step 15: Train and Evaluate the Best Random Forest Model\n",
    "\n",
    "- **Train the Best Random Forest Model**:\n",
    "  - Initialize the model with the best parameters obtained from `GridSearchCV` using `RandomForestClassifier(**best_params, random_state=42)`.\n",
    "  - Fit the model on the combined training set using `best_random_forest.fit(X_train_combined, y_train)`.\n",
    "\n",
    "- **Make Predictions**:\n",
    "  - Predict on the training set using `best_random_forest.predict(X_train_combined)`.\n",
    "  - Predict on the testing set using `best_random_forest.predict(X_test_combined)`.\n",
    "  - Obtain predicted probabilities for ROC-AUC evaluation using `best_random_forest.predict_proba(X_test_combined)[:, 1]`.\n",
    "\n",
    "- **Evaluate the Model**:\n",
    "  - **Accuracy**: Measure the percentage of correct predictions using `accuracy_score`.\n",
    "  - **Precision**: Measure the proportion of positive identifications that were actually correct using `precision_score`.\n",
    "  - **Recall**: Measure the proportion of actual positives that were identified correctly using `recall_score`.\n",
    "  - **F1 Score**: Harmonic mean of precision and recall using `f1_score`.\n",
    "  - **AUC-ROC**: Measure the ability of the model to distinguish between classes using `roc_auc_score`.\n",
    "\n",
    "- **Print the Evaluation Metrics**: Display the performance metrics of the model to assess its performance.\n"
   ]
  },
  {
   "cell_type": "code",
   "execution_count": 20,
   "metadata": {},
   "outputs": [
    {
     "name": "stdout",
     "output_type": "stream",
     "text": [
      "Best Random Forest - Training Accuracy: 0.9854166666666667\n",
      "Best Random Forest - Testing Accuracy: 0.9375\n",
      "Best Random Forest - Precision: 0.974025974025974\n",
      "Best Random Forest - Recall: 0.8522727272727273\n",
      "Best Random Forest - F1 Score: 0.9090909090909091\n",
      "Best Random Forest - AUC-ROC: 0.9935705741626795\n"
     ]
    }
   ],
   "source": [
    "# Train the best Random Forest model\n",
    "best_random_forest = RandomForestClassifier(**best_params, random_state=42)\n",
    "best_random_forest.fit(X_train_combined, y_train)\n",
    "\n",
    "# Make predictions\n",
    "y_pred_train_best_rf = best_random_forest.predict(X_train_combined)\n",
    "y_pred_test_best_rf = best_random_forest.predict(X_test_combined)\n",
    "y_pred_proba_test_best_rf = best_random_forest.predict_proba(X_test_combined)[:, 1]\n",
    "\n",
    "# Evaluate the model\n",
    "train_accuracy_best_rf = accuracy_score(y_train, y_pred_train_best_rf)\n",
    "test_accuracy_best_rf = accuracy_score(y_test, y_pred_test_best_rf)\n",
    "precision_best_rf = precision_score(y_test, y_pred_test_best_rf)\n",
    "recall_best_rf = recall_score(y_test, y_pred_test_best_rf)\n",
    "f1_best_rf = f1_score(y_test, y_pred_test_best_rf)\n",
    "auc_roc_best_rf = roc_auc_score(y_test, y_pred_proba_test_best_rf)\n",
    "\n",
    "# Print the evaluation metrics\n",
    "print(f\"Best Random Forest - Training Accuracy: {train_accuracy_best_rf}\")\n",
    "print(f\"Best Random Forest - Testing Accuracy: {test_accuracy_best_rf}\")\n",
    "print(f\"Best Random Forest - Precision: {precision_best_rf}\")\n",
    "print(f\"Best Random Forest - Recall: {recall_best_rf}\")\n",
    "print(f\"Best Random Forest - F1 Score: {f1_best_rf}\")\n",
    "print(f\"Best Random Forest - AUC-ROC: {auc_roc_best_rf}\")\n"
   ]
  },
  {
   "cell_type": "markdown",
   "metadata": {},
   "source": [
    "### Step 16: Save the Best Model\n",
    "\n",
    "- **Save the Best Model**:\n",
    "  - Use the `joblib` library to save the trained model to a file.\n",
    "  - Specify the filename for the model.\n",
    "  - Save the model using `joblib.dump`.\n",
    "- **Output**:\n",
    "  - Print a confirmation message indicating where the model has been saved.\n"
   ]
  },
  {
   "cell_type": "code",
   "execution_count": 21,
   "metadata": {},
   "outputs": [
    {
     "name": "stdout",
     "output_type": "stream",
     "text": [
      "Model saved to best_random_forest_model.joblib\n"
     ]
    }
   ],
   "source": [
    "import joblib\n",
    "\n",
    "# Save the best model to a file\n",
    "model_filename = 'best_random_forest_model.joblib'\n",
    "joblib.dump(best_random_forest, model_filename)\n",
    "\n",
    "print(f\"Model saved to {model_filename}\")\n"
   ]
  },
  {
   "cell_type": "markdown",
   "metadata": {},
   "source": [
    "### Step 17: Load and Evaluate the Saved Model\n",
    "\n",
    "- **Load the Saved Model**:\n",
    "  - Use the `joblib` library to load the saved model from the file using `joblib.load(model_filename)`.\n",
    "\n",
    "- **Make Predictions**:\n",
    "  - Use the loaded model to make predictions on the testing set with `loaded_model.predict(X_test_combined)`.\n",
    "  - Obtain predicted probabilities for ROC-AUC evaluation with `loaded_model.predict_proba(X_test_combined)[:, 1]`.\n",
    "\n",
    "- **Evaluate the Loaded Model**:\n",
    "  - **Accuracy**: Measure the percentage of correct predictions using `accuracy_score`.\n",
    "  - **Precision**: Measure the proportion of positive identifications that were actually correct using `precision_score`.\n",
    "  - **Recall**: Measure the proportion of actual positives that were identified correctly using `recall_score`.\n",
    "  - **F1 Score**: Harmonic mean of precision and recall using `f1_score`.\n",
    "  - **AUC-ROC**: Measure the ability of the model to distinguish between classes using `roc_auc_score`.\n",
    "\n",
    "- **Print the Evaluation Metrics**: Display the performance metrics of the loaded model to confirm it performs as expected.\n"
   ]
  },
  {
   "cell_type": "code",
   "execution_count": 23,
   "metadata": {},
   "outputs": [
    {
     "name": "stdout",
     "output_type": "stream",
     "text": [
      "Loaded Model - Testing Accuracy: 0.9375\n",
      "Loaded Model - Precision: 0.974025974025974\n",
      "Loaded Model - Recall: 0.8522727272727273\n",
      "Loaded Model - F1 Score: 0.9090909090909091\n",
      "Loaded Model - AUC-ROC: 0.9935705741626795\n"
     ]
    }
   ],
   "source": [
    "# Load the saved model from the file\n",
    "loaded_model = joblib.load(model_filename)\n",
    "\n",
    "# Use the loaded model to make predictions\n",
    "y_pred_test_loaded_model = loaded_model.predict(X_test_combined)\n",
    "y_pred_proba_test_loaded_model = loaded_model.predict_proba(X_test_combined)[:, 1]\n",
    "\n",
    "# Evaluate the loaded model\n",
    "loaded_test_accuracy = accuracy_score(y_test, y_pred_test_loaded_model)\n",
    "loaded_precision = precision_score(y_test, y_pred_test_loaded_model)\n",
    "loaded_recall = recall_score(y_test, y_pred_test_loaded_model)\n",
    "loaded_f1 = f1_score(y_test, y_pred_test_loaded_model)\n",
    "loaded_auc_roc = roc_auc_score(y_test, y_pred_proba_test_loaded_model)\n",
    "\n",
    "# Print the evaluation metrics\n",
    "print(f\"Loaded Model - Testing Accuracy: {loaded_test_accuracy}\")\n",
    "print(f\"Loaded Model - Precision: {loaded_precision}\")\n",
    "print(f\"Loaded Model - Recall: {loaded_recall}\")\n",
    "print(f\"Loaded Model - F1 Score: {loaded_f1}\")\n",
    "print(f\"Loaded Model - AUC-ROC: {loaded_auc_roc}\")\n"
   ]
  },
  {
   "cell_type": "markdown",
   "metadata": {},
   "source": [
    "### Step 18: Visualize Feature Importance\n",
    "\n",
    "- **Get Feature Names**:\n",
    "  - Retrieve feature names from the preprocessing pipeline:\n",
    "    - **Categorical Features**: Extract names from the `OneHotEncoder`.\n",
    "    - **Numeric Features**: Use the original numeric feature names.\n",
    "    - **Text Features**: Create names for TF-IDF features.\n",
    "  - Combine all feature names into a single array.\n",
    "- **Get Feature Importances**:\n",
    "  - Retrieve feature importances from the trained Random Forest model using `best_random_forest.feature_importances_`.\n",
    "- **Sort Feature Importances**:\n",
    "  - Sort the feature importances in descending order and get their indices.\n",
    "  - Select the top N features to plot.\n",
    "- **Plot Feature Importances**:\n",
    "  - Create a bar plot to visualize the top N feature importances.\n",
    "  - Set the plot title and labels for better readability.\n"
   ]
  },
  {
   "cell_type": "code",
   "execution_count": 25,
   "metadata": {},
   "outputs": [
    {
     "data": {
      "image/png": "[encoded data removed]",
      "text/plain": [
       "<Figure size 1000x800 with 1 Axes>"
      ]
     },
     "metadata": {},
     "output_type": "display_data"
    }
   ],
   "source": [
    "import numpy as np\n",
    "import matplotlib.pyplot as plt\n",
    "\n",
    "# Get feature names from the preprocessing pipeline\n",
    "cat_feature_names = preprocessor.named_transformers_['cat'].get_feature_names_out(categorical_features)\n",
    "num_feature_names = numeric_features\n",
    "text_feature_names = [f'tfidf_{i}' for i in range(X_train_text.shape[1])]\n",
    "\n",
    "# Combine all feature names\n",
    "all_feature_names = np.hstack((num_feature_names, cat_feature_names, text_feature_names))\n",
    "\n",
    "# Get feature importances from the best random forest model\n",
    "feature_importances = best_random_forest.feature_importances_\n",
    "\n",
    "# Sort the feature importances in descending order and get their indices\n",
    "sorted_idx = np.argsort(feature_importances)[::-1]\n",
    "\n",
    "# Select the top N features to plot\n",
    "top_n = 20\n",
    "top_feature_indices = sorted_idx[:top_n]\n",
    "top_feature_importances = feature_importances[top_feature_indices]\n",
    "top_feature_names = [all_feature_names[i] for i in top_feature_indices]\n",
    "\n",
    "# Plot the feature importances\n",
    "plt.figure(figsize=(10, 8))\n",
    "plt.title(f\"Top {top_n} Feature Importances in Random Forest\")\n",
    "plt.barh(range(top_n), top_feature_importances, align='center')\n",
    "plt.yticks(range(top_n), top_feature_names)\n",
    "plt.gca().invert_yaxis()\n",
    "plt.xlabel(\"Feature Importance\")\n",
    "plt.show()\n"
   ]
  },
  {
   "cell_type": "markdown",
   "metadata": {},
   "source": [
    "### Step 19: Train and Evaluate Gradient Boosting Model\n",
    "\n",
    "- **Train a Gradient Boosting model**:\n",
    "  - Initialize the model with `GradientBoostingClassifier(random_state=42)`.\n",
    "  - Fit the model on the combined training set using `gradient_boosting.fit(X_train_combined, y_train)`.\n",
    "\n",
    "- **Make Predictions**:\n",
    "  - Predict on the training set using `gradient_boosting.predict(X_train_combined)`.\n",
    "  - Predict on the testing set using `gradient_boosting.predict(X_test_combined)`.\n",
    "  - Obtain predicted probabilities for ROC-AUC evaluation using `gradient_boosting.predict_proba(X_test_combined)[:, 1]`.\n",
    "\n",
    "- **Evaluate the Model**:\n",
    "  - **Accuracy**: Measure the percentage of correct predictions using `accuracy_score`.\n",
    "  - **Precision**: Measure the proportion of positive identifications that were actually correct using `precision_score`.\n",
    "  - **Recall**: Measure the proportion of actual positives that were identified correctly using `recall_score`.\n",
    "  - **F1 Score**: Harmonic mean of precision and recall using `f1_score`.\n",
    "  - **AUC-ROC**: Measure the ability of the model to distinguish between classes using `roc_auc_score`.\n",
    "\n",
    "- **Print the Evaluation Metrics**: Display the performance metrics of the model to assess its performance.\n"
   ]
  },
  {
   "cell_type": "code",
   "execution_count": 28,
   "metadata": {},
   "outputs": [
    {
     "name": "stdout",
     "output_type": "stream",
     "text": [
      "Gradient Boosting - Training Accuracy: 1.0\n",
      "Gradient Boosting - Testing Accuracy: 0.9458333333333333\n",
      "Gradient Boosting - Precision: 0.9518072289156626\n",
      "Gradient Boosting - Recall: 0.8977272727272727\n",
      "Gradient Boosting - F1 Score: 0.9239766081871345\n",
      "Gradient Boosting - AUC-ROC: 0.9898699162679426\n"
     ]
    }
   ],
   "source": [
    "from sklearn.ensemble import GradientBoostingClassifier\n",
    "\n",
    "# Train a Gradient Boosting model\n",
    "gradient_boosting = GradientBoostingClassifier(random_state=42)\n",
    "gradient_boosting.fit(X_train_combined, y_train)\n",
    "\n",
    "# Make predictions\n",
    "y_pred_train_gb = gradient_boosting.predict(X_train_combined)\n",
    "y_pred_test_gb = gradient_boosting.predict(X_test_combined)\n",
    "y_pred_proba_test_gb = gradient_boosting.predict_proba(X_test_combined)[:, 1]\n",
    "\n",
    "# Evaluate the model\n",
    "train_accuracy_gb = accuracy_score(y_train, y_pred_train_gb)\n",
    "test_accuracy_gb = accuracy_score(y_test, y_pred_test_gb)\n",
    "precision_gb = precision_score(y_test, y_pred_test_gb)\n",
    "recall_gb = recall_score(y_test, y_pred_test_gb)\n",
    "f1_gb = f1_score(y_test, y_pred_test_gb)\n",
    "auc_roc_gb = roc_auc_score(y_test, y_pred_proba_test_gb)\n",
    "\n",
    "# Print the evaluation metrics\n",
    "print(f\"Gradient Boosting - Training Accuracy: {train_accuracy_gb}\")\n",
    "print(f\"Gradient Boosting - Testing Accuracy: {test_accuracy_gb}\")\n",
    "print(f\"Gradient Boosting - Precision: {precision_gb}\")\n",
    "print(f\"Gradient Boosting - Recall: {recall_gb}\")\n",
    "print(f\"Gradient Boosting - F1 Score: {f1_gb}\")\n",
    "print(f\"Gradient Boosting - AUC-ROC: {auc_roc_gb}\")\n"
   ]
  },
  {
   "cell_type": "markdown",
   "metadata": {},
   "source": [
    "### Step 20: SHAP Values for Model Interpretation\n",
    "\n",
    "- **SHAP Values**:\n",
    "  - SHAP (SHapley Additive exPlanations) values provide a unified measure of feature importance.\n",
    "- **Convert Sparse Matrix to Dense**:\n",
    "  - Convert the sparse matrix to a dense matrix for SHAP values calculation using `X_test_combined.toarray()`.\n",
    "- **Calculate SHAP Values**:\n",
    "  - Initialize a SHAP TreeExplainer with the trained Random Forest model using `shap.TreeExplainer(best_random_forest)`.\n",
    "  - Calculate SHAP values for the testing set using `explainer.shap_values(X_test_combined_dense)`.\n",
    "- **Plot SHAP Summary**:\n",
    "  - Create a summary plot to visualize feature importance and their impact on the model predictions using `shap.summary_plot`.\n"
   ]
  },
  {
   "cell_type": "code",
   "execution_count": 36,
   "metadata": {},
   "outputs": [
    {
     "data": {
      "image/png": "[encoded data removed]",
      "text/plain": [
       "<Figure size 1150x660 with 2 Axes>"
      ]
     },
     "metadata": {},
     "output_type": "display_data"
    }
   ],
   "source": [
    "import shap\n",
    "\n",
    "# Convert sparse matrix to dense matrix for SHAP values calculation\n",
    "X_test_combined_dense = X_test_combined.toarray()\n",
    "\n",
    "# Calculate SHAP values\n",
    "explainer = shap.TreeExplainer(best_random_forest)\n",
    "shap_values = explainer.shap_values(X_test_combined_dense)\n",
    "\n",
    "# Plot SHAP summary\n",
    "shap.summary_plot(shap_values, X_test_combined_dense, feature_names=all_feature_names)\n"
   ]
  },
  {
   "cell_type": "markdown",
   "metadata": {},
   "source": [
    "### Step 21: Cross-Validation\n",
    "\n",
    "- **Cross-Validation**:\n",
    "  - Use cross-validation to evaluate the stability and generalization of the model.\n",
    "  - Perform 5-fold cross-validation on the training set.\n",
    "  - Evaluate the model using the AUC-ROC score.\n",
    "- **Calculate and Print Scores**:\n",
    "  - Calculate the cross-validation scores using `cross_val_score`.\n",
    "  - Print the individual AUC-ROC scores for each fold.\n",
    "  - Print the mean AUC-ROC score to assess the overall model performance.\n"
   ]
  },
  {
   "cell_type": "code",
   "execution_count": 38,
   "metadata": {},
   "outputs": [
    {
     "name": "stdout",
     "output_type": "stream",
     "text": [
      "Cross-Validation AUC-ROC Scores: [0.98991935 0.98671727 0.9857685  0.99051233 0.99407021]\n",
      "Mean AUC-ROC Score: 0.9893975332068312\n"
     ]
    }
   ],
   "source": [
    "from sklearn.model_selection import cross_val_score\n",
    "\n",
    "# Perform cross-validation and print the mean AUC-ROC score\n",
    "cv_scores = cross_val_score(best_random_forest, X_train_combined, y_train, cv=5, scoring='roc_auc')\n",
    "print(f\"Cross-Validation AUC-ROC Scores: {cv_scores}\")\n",
    "print(f\"Mean AUC-ROC Score: {cv_scores.mean()}\")\n"
   ]
  },
  {
   "cell_type": "markdown",
   "metadata": {},
   "source": [
    "### Step 22: Train and Evaluate Gradient Boosting Model\n",
    "\n",
    "- **Train a Gradient Boosting Model**:\n",
    "  - Initialize the model with `GradientBoostingClassifier(random_state=42)`.\n",
    "  - Fit the model on the combined training set using `gradient_boosting.fit(X_train_combined, y_train)`.\n",
    "\n",
    "- **Make Predictions**:\n",
    "  - Predict on the training set using `gradient_boosting.predict(X_train_combined)`.\n",
    "  - Predict on the testing set using `gradient_boosting.predict(X_test_combined)`.\n",
    "  - Obtain predicted probabilities for ROC-AUC evaluation using `gradient_boosting.predict_proba(X_test_combined)[:, 1]`.\n",
    "\n",
    "- **Evaluate the Model**:\n",
    "  - **Accuracy**: Measure the percentage of correct predictions using `accuracy_score`.\n",
    "  - **Precision**: Measure the proportion of positive identifications that were actually correct using `precision_score`.\n",
    "  - **Recall**: Measure the proportion of actual positives that were identified correctly using `recall_score`.\n",
    "  - **F1 Score**: Harmonic mean of precision and recall using `f1_score`.\n",
    "  - **AUC-ROC**: Measure the ability of the model to distinguish between classes using `roc_auc_score`.\n",
    "\n",
    "- **Print the Evaluation Metrics**: Display the performance metrics of the model to assess its performance.\n"
   ]
  },
  {
   "cell_type": "code",
   "execution_count": 39,
   "metadata": {},
   "outputs": [
    {
     "name": "stdout",
     "output_type": "stream",
     "text": [
      "Gradient Boosting - Training Accuracy: 1.0\n",
      "Gradient Boosting - Testing Accuracy: 0.9458333333333333\n",
      "Gradient Boosting - Precision: 0.9518072289156626\n",
      "Gradient Boosting - Recall: 0.8977272727272727\n",
      "Gradient Boosting - F1 Score: 0.9239766081871345\n",
      "Gradient Boosting - AUC-ROC: 0.9898699162679426\n"
     ]
    }
   ],
   "source": [
    "from sklearn.ensemble import GradientBoostingClassifier\n",
    "\n",
    "# Train a Gradient Boosting model\n",
    "gradient_boosting = GradientBoostingClassifier(random_state=42)\n",
    "gradient_boosting.fit(X_train_combined, y_train)\n",
    "\n",
    "# Make predictions\n",
    "y_pred_train_gb = gradient_boosting.predict(X_train_combined)\n",
    "y_pred_test_gb = gradient_boosting.predict(X_test_combined)\n",
    "y_pred_proba_test_gb = gradient_boosting.predict_proba(X_test_combined)[:, 1]\n",
    "\n",
    "# Evaluate the model\n",
    "train_accuracy_gb = accuracy_score(y_train, y_pred_train_gb)\n",
    "test_accuracy_gb = accuracy_score(y_test, y_pred_test_gb)\n",
    "precision_gb = precision_score(y_test, y_pred_test_gb)\n",
    "recall_gb = recall_score(y_test, y_pred_test_gb)\n",
    "f1_gb = f1_score(y_test, y_pred_test_gb)\n",
    "auc_roc_gb = roc_auc_score(y_test, y_pred_proba_test_gb)\n",
    "\n",
    "# Print the evaluation metrics\n",
    "print(f\"Gradient Boosting - Training Accuracy: {train_accuracy_gb}\")\n",
    "print(f\"Gradient Boosting - Testing Accuracy: {test_accuracy_gb}\")\n",
    "print(f\"Gradient Boosting - Precision: {precision_gb}\")\n",
    "print(f\"Gradient Boosting - Recall: {recall_gb}\")\n",
    "print(f\"Gradient Boosting - F1 Score: {f1_gb}\")\n",
    "print(f\"Gradient Boosting - AUC-ROC: {auc_roc_gb}\")\n"
   ]
  },
  {
   "cell_type": "markdown",
   "metadata": {},
   "source": [
    "### Step 23: Hyperparameter Tuning with GridSearchCV for Random Forest\n",
    "\n",
    "- **Hyperparameter Tuning**:\n",
    "  - Use `GridSearchCV` to find the best hyperparameters for the Random Forest model.\n",
    "\n",
    "- **Parameter Grid**:\n",
    "  - `n_estimators`: Number of trees in the forest.\n",
    "  - `max_depth`: Maximum depth of the tree.\n",
    "  - `min_samples_split`: Minimum number of samples required to split an internal node.\n",
    "  - `min_samples_leaf`: Minimum number of samples required to be at a leaf node.\n",
    "\n",
    "- **Grid Search**:\n",
    "  - Initialize `GridSearchCV` with the Random Forest estimator, parameter grid, and scoring metric (`roc_auc`).\n",
    "  - Perform 3-fold cross-validation.\n",
    "\n",
    "- **Fit the Grid Search**:\n",
    "  - Fit the grid search on the combined training set using `grid_search.fit(X_train_combined, y_train)`.\n",
    "\n",
    "- **Results**:\n",
    "  - Retrieve the best parameters and the best AUC-ROC score from the grid search using `grid_search.best_params_` and `grid_search.best_score_`.\n",
    "  - Print the best parameters and the best score to understand the optimal model configuration.\n"
   ]
  },
  {
   "cell_type": "code",
   "execution_count": 40,
   "metadata": {},
   "outputs": [
    {
     "name": "stdout",
     "output_type": "stream",
     "text": [
      "Best Parameters: {'max_depth': 20, 'min_samples_leaf': 4, 'min_samples_split': 10, 'n_estimators': 300}\n",
      "Best AUC-ROC Score: 0.9889289162507134\n"
     ]
    }
   ],
   "source": [
    "from sklearn.model_selection import GridSearchCV\n",
    "\n",
    "# Define the parameter grid for Random Forest\n",
    "param_grid = {\n",
    "    'n_estimators': [100, 200, 300],\n",
    "    'max_depth': [None, 10, 20, 30],\n",
    "    'min_samples_split': [2, 5, 10],\n",
    "    'min_samples_leaf': [1, 2, 4]\n",
    "}\n",
    "\n",
    "# Initialize the Grid Search\n",
    "grid_search = GridSearchCV(estimator=RandomForestClassifier(random_state=42),\n",
    "                           param_grid=param_grid,\n",
    "                           cv=3, n_jobs=-1, scoring='roc_auc')\n",
    "\n",
    "# Fit Grid Search\n",
    "grid_search.fit(X_train_combined, y_train)\n",
    "\n",
    "# Get the best parameters and the best score\n",
    "best_params = grid_search.best_params_\n",
    "best_score = grid_search.best_score_\n",
    "\n",
    "# Print the best parameters and the best score\n",
    "print(f\"Best Parameters: {best_params}\")\n",
    "print(f\"Best AUC-ROC Score: {best_score}\")\n"
   ]
  },
  {
   "cell_type": "markdown",
   "metadata": {},
   "source": [
    "### Step 24: Train and Evaluate the Best Random Forest Model\n",
    "\n",
    "- **Train the Best Random Forest Model**:\n",
    "  - Initialize the model with the best parameters obtained from `GridSearchCV` using `RandomForestClassifier(**best_params, random_state=42)`.\n",
    "  - Fit the model on the combined training set using `best_random_forest_tuned.fit(X_train_combined, y_train)`.\n",
    "\n",
    "- **Make Predictions**:\n",
    "  - Predict on the training set using `best_random_forest_tuned.predict(X_train_combined)`.\n",
    "  - Predict on the testing set using `best_random_forest_tuned.predict(X_test_combined)`.\n",
    "  - Obtain predicted probabilities for ROC-AUC evaluation using `best_random_forest_tuned.predict_proba(X_test_combined)[:, 1]`.\n",
    "\n",
    "- **Evaluate the Model**:\n",
    "  - **Accuracy**: Measure the percentage of correct predictions using `accuracy_score`.\n",
    "  - **Precision**: Measure the proportion of positive identifications that were actually correct using `precision_score`.\n",
    "  - **Recall**: Measure the proportion of actual positives that were identified correctly using `recall_score`.\n",
    "  - **F1 Score**: Harmonic mean of precision and recall using `f1_score`.\n",
    "  - **AUC-ROC**: Measure the ability of the model to distinguish between classes using `roc_auc_score`.\n",
    "\n",
    "- **Print the Evaluation Metrics**: Display the performance metrics of the model to assess its performance.\n"
   ]
  },
  {
   "cell_type": "code",
   "execution_count": 41,
   "metadata": {},
   "outputs": [
    {
     "name": "stdout",
     "output_type": "stream",
     "text": [
      "Tuned Random Forest - Training Accuracy: 0.9854166666666667\n",
      "Tuned Random Forest - Testing Accuracy: 0.9375\n",
      "Tuned Random Forest - Precision: 0.974025974025974\n",
      "Tuned Random Forest - Recall: 0.8522727272727273\n",
      "Tuned Random Forest - F1 Score: 0.9090909090909091\n",
      "Tuned Random Forest - AUC-ROC: 0.9935705741626795\n"
     ]
    }
   ],
   "source": [
    "# Train the best Random Forest model\n",
    "best_random_forest_tuned = RandomForestClassifier(**best_params, random_state=42)\n",
    "best_random_forest_tuned.fit(X_train_combined, y_train)\n",
    "\n",
    "# Make predictions\n",
    "y_pred_train_best_rf_tuned = best_random_forest_tuned.predict(X_train_combined)\n",
    "y_pred_test_best_rf_tuned = best_random_forest_tuned.predict(X_test_combined)\n",
    "y_pred_proba_test_best_rf_tuned = best_random_forest_tuned.predict_proba(X_test_combined)[:, 1]\n",
    "\n",
    "# Evaluate the model\n",
    "train_accuracy_best_rf_tuned = accuracy_score(y_train, y_pred_train_best_rf_tuned)\n",
    "test_accuracy_best_rf_tuned = accuracy_score(y_test, y_pred_test_best_rf_tuned)\n",
    "precision_best_rf_tuned = precision_score(y_test, y_pred_test_best_rf_tuned)\n",
    "recall_best_rf_tuned = recall_score(y_test, y_pred_test_best_rf_tuned)\n",
    "f1_best_rf_tuned = f1_score(y_test, y_pred_test_best_rf_tuned)\n",
    "auc_roc_best_rf_tuned = roc_auc_score(y_test, y_pred_proba_test_best_rf_tuned)\n",
    "\n",
    "# Print the evaluation metrics\n",
    "print(f\"Tuned Random Forest - Training Accuracy: {train_accuracy_best_rf_tuned}\")\n",
    "print(f\"Tuned Random Forest - Testing Accuracy: {test_accuracy_best_rf_tuned}\")\n",
    "print(f\"Tuned Random Forest - Precision: {precision_best_rf_tuned}\")\n",
    "print(f\"Tuned Random Forest - Recall: {recall_best_rf_tuned}\")\n",
    "print(f\"Tuned Random Forest - F1 Score: {f1_best_rf_tuned}\")\n",
    "print(f\"Tuned Random Forest - AUC-ROC: {auc_roc_best_rf_tuned}\")\n"
   ]
  }
 ],
 "metadata": {
  "kernelspec": {
   "display_name": "Python 3",
   "language": "python",
   "name": "python3"
  },
  "language_info": {
   "codemirror_mode": {
    "name": "ipython",
    "version": 3
   },
   "file_extension": ".py",
   "mimetype": "text/x-python",
   "name": "python",
   "nbconvert_exporter": "python",
   "pygments_lexer": "ipython3",
   "version": "3.12.3"
  }
 },
 "nbformat": 4,
 "nbformat_minor": 2
}
